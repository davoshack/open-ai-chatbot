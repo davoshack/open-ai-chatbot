{
 "cells": [
  {
   "cell_type": "code",
   "execution_count": null,
   "metadata": {
    "executionInfo": {
     "elapsed": 3,
     "status": "ok",
     "timestamp": 1701190045705,
     "user": {
      "displayName": "Miguel Torres",
      "userId": "00890993134474397422"
     },
     "user_tz": 360
    },
    "id": "Yda6XTJ2Tiz7"
   },
   "outputs": [],
   "source": [
    "from openai import OpenAI\n",
    "from custom_utils.helper import get_openai_api_key, print_response"
   ]
  },
  {
   "cell_type": "code",
   "execution_count": null,
   "metadata": {
    "executionInfo": {
     "elapsed": 352,
     "status": "ok",
     "timestamp": 1701190112114,
     "user": {
      "displayName": "Miguel Torres",
      "userId": "00890993134474397422"
     },
     "user_tz": 360
    },
    "id": "sHehHPGPT_iS"
   },
   "outputs": [],
   "source": [
    "OPENAI_API_KEY = get_openai_api_key()\n",
    "openai = OpenAI(api_key=OPENAI_API_KEY)"
   ]
  },
  {
   "cell_type": "markdown",
   "metadata": {
    "id": "fuKoxVYtUEVE"
   },
   "source": [
    "## Tweet Classifier with Completion"
   ]
  },
  {
   "cell_type": "code",
   "execution_count": null,
   "metadata": {},
   "outputs": [],
   "source": [
    "_prompt = \"\"\" \\\n",
    "    Decide if the sentiment of a Tweet is positive, neutral, or negative. \n",
    "    Tweet: \"I love the new iPhone, it's the best phone I've had in years.\n",
    "    Sentiment: \\\n",
    "\"\"\""
   ]
  },
  {
   "cell_type": "code",
   "execution_count": null,
   "metadata": {
    "executionInfo": {
     "elapsed": 2009,
     "status": "ok",
     "timestamp": 1701190082750,
     "user": {
      "displayName": "Miguel Torres",
      "userId": "00890993134474397422"
     },
     "user_tz": 360
    },
    "id": "rAydwHmcRcfn"
   },
   "outputs": [],
   "source": [
    "response = openai.completions.create(\n",
    "  model=\"gpt-3.5-turbo-instruct\",\n",
    "  prompt=_prompt,\n",
    "  temperature=0,\n",
    "  max_tokens=60,\n",
    "  top_p=1.0,\n",
    "  frequency_penalty=0.5,\n",
    "  presence_penalty=0.0\n",
    ")"
   ]
  },
  {
   "cell_type": "code",
   "execution_count": null,
   "metadata": {},
   "outputs": [],
   "source": [
    "print_response(response.choices[0].text)"
   ]
  },
  {
   "cell_type": "code",
   "execution_count": null,
   "metadata": {},
   "outputs": [],
   "source": [
    "_prompt = \"\"\" \\\n",
    "    Decide if the sentiment of a Tweet is positive, neutral, or negative. \n",
    "    Tweet: \"The new iPhone has low memory and the camera is of poor quality.\n",
    "    Sentiment: \\\n",
    "\"\"\""
   ]
  },
  {
   "cell_type": "code",
   "execution_count": null,
   "metadata": {
    "executionInfo": {
     "elapsed": 699,
     "status": "ok",
     "timestamp": 1701190094331,
     "user": {
      "displayName": "Miguel Torres",
      "userId": "00890993134474397422"
     },
     "user_tz": 360
    },
    "id": "wbDOJgLn1K_e"
   },
   "outputs": [],
   "source": [
    "response = openai.completions.create(\n",
    "  model=\"gpt-3.5-turbo-instruct\",\n",
    "  prompt=_prompt,\n",
    "  temperature=0,\n",
    "  max_tokens=60,\n",
    "  top_p=1.0,\n",
    "  frequency_penalty=0.5,\n",
    "  presence_penalty=0.0\n",
    ")"
   ]
  },
  {
   "cell_type": "code",
   "execution_count": null,
   "metadata": {
    "colab": {
     "base_uri": "https://localhost:8080/",
     "height": 35
    },
    "executionInfo": {
     "elapsed": 329,
     "status": "ok",
     "timestamp": 1701190100544,
     "user": {
      "displayName": "Miguel Torres",
      "userId": "00890993134474397422"
     },
     "user_tz": 360
    },
    "id": "VhB5V2k_SgIR",
    "outputId": "c317d8db-0bef-4db2-a488-506aa06ce8db"
   },
   "outputs": [],
   "source": [
    "print_response(response.choices[0].text)"
   ]
  }
 ],
 "metadata": {
  "colab": {
   "provenance": []
  },
  "kernelspec": {
   "display_name": "openai-chatbot",
   "language": "python",
   "name": "python3"
  },
  "language_info": {
   "codemirror_mode": {
    "name": "ipython",
    "version": 3
   },
   "file_extension": ".py",
   "mimetype": "text/x-python",
   "name": "python",
   "nbconvert_exporter": "python",
   "pygments_lexer": "ipython3",
   "version": "3.12.0"
  }
 },
 "nbformat": 4,
 "nbformat_minor": 0
}
