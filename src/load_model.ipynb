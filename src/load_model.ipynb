{
 "cells": [
  {
   "cell_type": "code",
   "execution_count": null,
   "metadata": {},
   "outputs": [],
   "source": [
    "from openai import OpenAI\n",
    "from custom_utils.helper import get_openai_api_key, print_response"
   ]
  },
  {
   "cell_type": "code",
   "execution_count": null,
   "metadata": {},
   "outputs": [],
   "source": [
    "OPENAI_API_KEY = get_openai_api_key()\n",
    "openai = OpenAI(api_key=OPENAI_API_KEY)"
   ]
  },
  {
   "cell_type": "code",
   "execution_count": null,
   "metadata": {
    "colab": {
     "base_uri": "https://localhost:8080/"
    },
    "id": "yNKHA3Phgws3",
    "outputId": "7201bdec-ae38-43af-891d-ee86ed45384c"
   },
   "outputs": [],
   "source": [
    "response = openai.chat.completions.create(\n",
    "    model = 'gpt-3.5-turbo',\n",
    "    messages = [\n",
    "        {\"role\": \"system\", \"content\" :\"You are an assistant that provides information to queries\"},\n",
    "        {\"role\": \"user\", \"content\" :\"Who discovered America?\"}\n",
    "    ],\n",
    "    max_tokens = 50,\n",
    ")\n",
    "\n",
    "print_response(response.choices[0].message.content)"
   ]
  },
  {
   "cell_type": "code",
   "execution_count": null,
   "metadata": {
    "colab": {
     "base_uri": "https://localhost:8080/"
    },
    "id": "9253KN3KNJKf",
    "outputId": "e2264882-20ea-4d55-bd6a-0b2ebf2bfcb2"
   },
   "outputs": [],
   "source": [
    "response = openai.chat.completions.create(\n",
    "    model = 'gpt-3.5-turbo',\n",
    "    messages = [\n",
    "        {\"role\": \"system\", \"content\" :\"You are an assistant that provides information to queries\"},\n",
    "        {\"role\": \"user\", \"content\" :\"Who discovered America?\"}\n",
    "    ],\n",
    "    max_tokens = 50,\n",
    "    temperature = 1,\n",
    "    top_p = 1,\n",
    "    n = 2\n",
    ")\n",
    "\n",
    "print_response(response.choices[0].message.content)"
   ]
  },
  {
   "cell_type": "code",
   "execution_count": null,
   "metadata": {},
   "outputs": [],
   "source": [
    "print_response(response.choices[0].message.content)"
   ]
  },
  {
   "cell_type": "code",
   "execution_count": null,
   "metadata": {},
   "outputs": [],
   "source": [
    "print_response(response.choices[1].message.content)"
   ]
  },
  {
   "cell_type": "code",
   "execution_count": null,
   "metadata": {},
   "outputs": [],
   "source": [
    "response = openai.chat.completions.create(\n",
    "    model = 'gpt-3.5-turbo',\n",
    "    messages = [\n",
    "        {\"role\": \"system\", \"content\" :\"You are an assistant that provides information to queries\"},\n",
    "        {\"role\": \"user\", \"content\" :\"What is AI?\"}\n",
    "    ],\n",
    "    max_tokens = 100,\n",
    "    temperature = 0.3,\n",
    "    top_p = 1,\n",
    "    n = 2\n",
    ")\n",
    "\n",
    "print_response(response.choices[0].message.content)"
   ]
  }
 ],
 "metadata": {
  "colab": {
   "provenance": []
  },
  "kernelspec": {
   "display_name": "openai-chatbot",
   "language": "python",
   "name": "python3"
  },
  "language_info": {
   "codemirror_mode": {
    "name": "ipython",
    "version": 3
   },
   "file_extension": ".py",
   "mimetype": "text/x-python",
   "name": "python",
   "nbconvert_exporter": "python",
   "pygments_lexer": "ipython3",
   "version": "3.12.0"
  }
 },
 "nbformat": 4,
 "nbformat_minor": 0
}
