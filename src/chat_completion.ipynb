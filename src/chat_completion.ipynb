{
 "cells": [
  {
   "cell_type": "code",
   "execution_count": null,
   "metadata": {},
   "outputs": [],
   "source": [
    "from openai import OpenAI\n",
    "from custom_utils.helper import get_openai_api_key, print_response"
   ]
  },
  {
   "cell_type": "code",
   "execution_count": null,
   "metadata": {},
   "outputs": [],
   "source": [
    "OPENAI_API_KEY = get_openai_api_key()\n",
    "openai = OpenAI(api_key=OPENAI_API_KEY)"
   ]
  },
  {
   "cell_type": "code",
   "execution_count": null,
   "metadata": {
    "colab": {
     "base_uri": "https://localhost:8080/"
    },
    "id": "WotauwKmYUBn",
    "outputId": "8260ca9e-665e-48d8-9196-9b21c8f84c81"
   },
   "outputs": [],
   "source": [
    "response = openai.chat.completions.create(\n",
    "    model = 'gpt-3.5-turbo',\n",
    "    messages = [\n",
    "        {\"role\": \"system\", \"content\" :\"You are an assistant that provides information about sports\"},\n",
    "        {\"role\": \"user\", \"content\" :\"Who won the World Cup?\"},\n",
    "        {\"role\": \"assistant\", \"content\" : \"The 2022 World Cup was won by Argentina\"},\n",
    "        {\"role\": \"user\", \"content\" :\"Where was it played?\"}\n",
    "    ]\n",
    ")\n",
    "\n",
    "print_response(response.choices[0].message.content)"
   ]
  },
  {
   "cell_type": "code",
   "execution_count": null,
   "metadata": {
    "colab": {
     "base_uri": "https://localhost:8080/"
    },
    "id": "sSwaJ1wmbn5z",
    "outputId": "2df6e4c8-a8a3-4fd2-f89a-64fb1a67c9d7"
   },
   "outputs": [],
   "source": [
    "response = openai.chat.completions.create(\n",
    "    model = 'gpt-3.5-turbo',\n",
    "    messages = [\n",
    "        {\"role\": \"system\", \"content\" :\"You are an assistant that provides information about sports\"},\n",
    "        {\"role\": \"user\", \"content\" :\"Who won the World Cup?\"},\n",
    "        {\"role\": \"assistant\", \"content\" : \"The 2022 World Cup was won by Argentina\"},\n",
    "        {\"role\": \"user\", \"content\" :\"Where was it played?\"}\n",
    "    ],\n",
    "    temperature = 0.2\n",
    ")\n",
    "print_response(response.choices[0].message.content)"
   ]
  },
  {
   "cell_type": "code",
   "execution_count": null,
   "metadata": {
    "colab": {
     "base_uri": "https://localhost:8080/"
    },
    "id": "9TuU7pdmb9bm",
    "outputId": "0117ff79-5378-442f-b0af-7cccc23c3bfc"
   },
   "outputs": [],
   "source": [
    "response = openai.chat.completions.create(\n",
    "    model = 'gpt-3.5-turbo',\n",
    "    messages = [\n",
    "        {\"role\": \"system\", \"content\" :\"You are an assistant that provides information about sports\"},\n",
    "        {\"role\": \"user\", \"content\" :\"Who won the World Cup?\"},\n",
    "        {\"role\": \"assistant\", \"content\" : \"The 2022 World Cup was won by Argentina\"},\n",
    "        {\"role\": \"user\", \"content\" :\"Where was it played?\"}\n",
    "    ],\n",
    "    temperature = 1\n",
    ")\n",
    "print_response(response.choices[0].message.content)"
   ]
  }
 ],
 "metadata": {
  "colab": {
   "provenance": []
  },
  "kernelspec": {
   "display_name": "openai-chatbot",
   "language": "python",
   "name": "python3"
  },
  "language_info": {
   "codemirror_mode": {
    "name": "ipython",
    "version": 3
   },
   "file_extension": ".py",
   "mimetype": "text/x-python",
   "name": "python",
   "nbconvert_exporter": "python",
   "pygments_lexer": "ipython3",
   "version": "3.12.0"
  }
 },
 "nbformat": 4,
 "nbformat_minor": 0
}
