{
 "cells": [
  {
   "cell_type": "code",
   "execution_count": null,
   "metadata": {},
   "outputs": [],
   "source": [
    "from openai import OpenAI\n",
    "from custom_utils.helper import get_openai_api_key, print_response"
   ]
  },
  {
   "cell_type": "code",
   "execution_count": null,
   "metadata": {},
   "outputs": [],
   "source": [
    "OPENAI_API_KEY = get_openai_api_key()\n",
    "openai = OpenAI(api_key=OPENAI_API_KEY)"
   ]
  },
  {
   "cell_type": "code",
   "execution_count": null,
   "metadata": {
    "id": "gCZESW3jQaMy"
   },
   "outputs": [],
   "source": [
    "import random\n",
    "\n",
    "def get_clue():\n",
    "  words = ['elephant', 'lion', 'giraffe', 'hippopotamus', 'monkey']\n",
    "  random_word = random.choice(words)\n",
    "  prompt = 'Guess the word I am thinking of. It is an animal that lives in the jungle.'\n",
    "  return prompt, random_word"
   ]
  },
  {
   "cell_type": "code",
   "execution_count": null,
   "metadata": {
    "id": "IaB5unxuRaz-"
   },
   "outputs": [],
   "source": [
    "def check_answer(user_input, answer):\n",
    "  if user_input == answer:\n",
    "    return True\n",
    "  return False"
   ]
  },
  {
   "cell_type": "code",
   "execution_count": null,
   "metadata": {
    "id": "P9j0TpygRwyn"
   },
   "outputs": [],
   "source": [
    "def give_property(animal):\n",
    "  response = openai.chat.completions.create(\n",
    "      model= 'gpt-4',\n",
    "      messages = [\n",
    "        {\"role\": \"user\", \"content\" :'Give me a characteristic of the animal type ' + animal + ', but never say the name of the animal'},\n",
    "       ],\n",
    "      max_tokens = 100)\n",
    "  return response.choices[0].message.content"
   ]
  },
  {
   "cell_type": "code",
   "execution_count": null,
   "metadata": {
    "id": "OY2knbpESZ0C"
   },
   "outputs": [],
   "source": [
    "def play_game():\n",
    "  prompt, answer = get_clue()\n",
    "  print_response(prompt)\n",
    "  while True:\n",
    "    user_input = input('Enter your answer:')\n",
    "    if check_answer(user_input,answer):\n",
    "      print('Correct! The answer was:', answer)\n",
    "      break\n",
    "    else:\n",
    "      print('Incorrect answer. Try again')\n",
    "      print(give_property(answer))"
   ]
  },
  {
   "cell_type": "code",
   "execution_count": null,
   "metadata": {
    "colab": {
     "base_uri": "https://localhost:8080/"
    },
    "id": "qmuwT5WqTSwd",
    "outputId": "e49e7a64-407c-486e-e003-2b5bd0125290"
   },
   "outputs": [],
   "source": [
    "play_game()"
   ]
  }
 ],
 "metadata": {
  "colab": {
   "provenance": []
  },
  "kernelspec": {
   "display_name": "openai-chatbot",
   "language": "python",
   "name": "python3"
  },
  "language_info": {
   "codemirror_mode": {
    "name": "ipython",
    "version": 3
   },
   "file_extension": ".py",
   "mimetype": "text/x-python",
   "name": "python",
   "nbconvert_exporter": "python",
   "pygments_lexer": "ipython3",
   "version": "3.12.0"
  }
 },
 "nbformat": 4,
 "nbformat_minor": 0
}
